{
 "cells": [
  {
   "cell_type": "code",
   "execution_count": 1,
   "metadata": {},
   "outputs": [],
   "source": [
    "%matplotlib ipympl\n",
    "import matplotlib.pyplot as plt\n",
    "\n",
    "import numpy as np\n",
    "from IPython.display import display\n",
    "from ipywidgets import interact, interactive, fixed, interact_manual\n",
    "import ipywidgets as widgets\n",
    "import pandas as pd\n",
    "\n",
    "from Data import Data"
   ]
  },
  {
   "cell_type": "code",
   "execution_count": 2,
   "metadata": {},
   "outputs": [
    {
     "name": "stdout",
     "output_type": "stream",
     "text": [
      "Maximum: 54077760.0\n",
      "Minimum: 0.0\n"
     ]
    }
   ],
   "source": [
    "data = Data()\n",
    "samples = data.getSamples()\n",
    "targets = data.getTargets()\n",
    "\n",
    "minimum = np.array(samples, dtype=np.float64).min(axis=0).min(axis=0)\n",
    "maximum = np.array(samples, dtype=np.float64).max(axis=0).max(axis=0)\n",
    "print(\"Maximum: \" + str(maximum))\n",
    "print(\"Minimum: \" + str(minimum))"
   ]
  },
  {
   "cell_type": "code",
   "execution_count": 3,
   "metadata": {
    "scrolled": true
   },
   "outputs": [
    {
     "data": {
      "application/vnd.jupyter.widget-view+json": {
       "model_id": "1328192617344fae85e4d74d3a0587c1",
       "version_major": 2,
       "version_minor": 0
      },
      "text/plain": [
       "interactive(children=(IntRangeSlider(value=(1, 6), continuous_update=False, description='Test:', layout=Layout…"
      ]
     },
     "metadata": {},
     "output_type": "display_data"
    }
   ],
   "source": [
    "targetsGroup = []\n",
    "for target in targets:\n",
    "    if target not in targetsGroup:\n",
    "        targetsGroup.append(target)\n",
    "\n",
    "groupedSamples = [[] for i in range(len(targetsGroup))]\n",
    "means = []\n",
    "for i in range(len(targetsGroup)):\n",
    "    for j in range(len(samples)):\n",
    "        if targets[j] == i + 1:\n",
    "            groupedSamples[i].append(np.array(samples[j]))\n",
    "    groupedSamples[i] = np.array(groupedSamples[i])\n",
    "\n",
    "for group in groupedSamples:\n",
    "    group2 = np.array(group, dtype=np.float64)\n",
    "    mean = []\n",
    "    for i in range(group2.shape[1]):\n",
    "        a = group2[:, i - 1]\n",
    "        a = a.mean()\n",
    "        mean.append(a)\n",
    "    means.append(mean)\n",
    "\n",
    "dataFrame = pd.DataFrame(means)\n",
    "\n",
    "usersRangeWidget = widgets.IntRangeSlider(\n",
    "    value=[1, 6],\n",
    "    min=min(targetsGroup),\n",
    "    max=max(targetsGroup),\n",
    "    step=1,\n",
    "    description='Test:',\n",
    "    disabled=False,\n",
    "    continuous_update=False,\n",
    "    orientation='horizontal',\n",
    "    readout=True,\n",
    "    readout_format='d',\n",
    ")\n",
    "usersRangeWidget.layout.width = '100%'\n",
    "\n",
    "@interact(x=usersRangeWidget)\n",
    "def updatePlots(x):\n",
    "    meansPlot = dataFrame.iloc[x[0]:x[1]].T\n",
    "    meansPlot.plot(legend=False).set_ylim(dataFrame.min(axis=0).min(axis=0), dataFrame.max(axis=0).max(axis=0))"
   ]
  },
  {
   "cell_type": "code",
   "execution_count": 4,
   "metadata": {
    "scrolled": false
   },
   "outputs": [
    {
     "data": {
      "application/vnd.jupyter.widget-view+json": {
       "model_id": "515e0174af6e4a21904b035c211ee9b0",
       "version_major": 2,
       "version_minor": 0
      },
      "text/plain": [
       "interactive(children=(Dropdown(description='User:', options=(1, 2, 3, 4, 5, 6, 7, 8, 9, 10, 11, 12, 13, 14, 15…"
      ]
     },
     "metadata": {},
     "output_type": "display_data"
    }
   ],
   "source": [
    "usersDDWidget = widgets.Dropdown(\n",
    "    options=targetsGroup,\n",
    "    value=1,\n",
    "    description='User:',\n",
    "    disabled=False,\n",
    ")\n",
    "\n",
    "@interact(x=usersDDWidget)\n",
    "def plotUserData(x):\n",
    "    usersSamples = pd.DataFrame(groupedSamples[x])\n",
    "    usersSamples.astype(float).T.plot(legend=False).set_ylim(minimum, maximum)\n"
   ]
  },
  {
   "cell_type": "markdown",
   "metadata": {},
   "source": [
    "## Plotting the features\n",
    "\n",
    "Here we plot one feature against another to quickly see if users can be discriminated (i.e. if we can separate the groups of points with a straight line or if a grouping is possible).\n",
    "\n",
    "Extending this feature plotting to a third dimension (by adding another feature) can help discriminating the users. By extension, we can assume that up to it's 60th dimension, the points can be clustered and separated."
   ]
  },
  {
   "cell_type": "code",
   "execution_count": 5,
   "metadata": {},
   "outputs": [
    {
     "data": {
      "application/vnd.jupyter.widget-view+json": {
       "model_id": "94d398675ff24cf084f6f36bed61346a",
       "version_major": 2,
       "version_minor": 0
      },
      "text/plain": [
       "FigureCanvasNbAgg()"
      ]
     },
     "metadata": {},
     "output_type": "display_data"
    },
    {
     "data": {
      "application/vnd.jupyter.widget-view+json": {
       "model_id": "2544fbd4525c4d3aa9b5c5551316dc0e",
       "version_major": 2,
       "version_minor": 0
      },
      "text/plain": [
       "FigureCanvasNbAgg()"
      ]
     },
     "metadata": {},
     "output_type": "display_data"
    },
    {
     "data": {
      "application/vnd.jupyter.widget-view+json": {
       "model_id": "e06cb4c4bf3c42ddbb08924c78cad116",
       "version_major": 2,
       "version_minor": 0
      },
      "text/plain": [
       "interactive(children=(Dropdown(description='First user:', options=(1, 2, 3, 4, 5, 6, 7, 8, 9, 10, 11, 12, 13, …"
      ]
     },
     "metadata": {},
     "output_type": "display_data"
    }
   ],
   "source": [
    "# This import registers the 3D projection, but is otherwise unused.\n",
    "from mpl_toolkits.mplot3d import Axes3D  # noqa: F401 unused import\n",
    "\n",
    "users = data.table[\"user_id\"].drop_duplicates()\n",
    "\n",
    "firstUserDropdownWidget = widgets.Dropdown(options=users, value=1, description='First user:')\n",
    "secondUserDropdownWidget = widgets.Dropdown(options=users, value=2, description='Second user:')\n",
    "\n",
    "fig2d = plt.figure()\n",
    "fig3d = plt.figure()\n",
    "\n",
    "ax2d = fig2d.add_subplot(111)\n",
    "ax2d.set_xlabel('rrTime0')\n",
    "ax2d.set_ylabel('rrTime1')\n",
    "\n",
    "ax3d = fig3d.add_subplot(111, projection='3d')\n",
    "ax3d.set_xlabel('rrTime0')\n",
    "ax3d.set_ylabel('rrTime1')\n",
    "ax3d.set_zlabel('rrTime2')\n",
    "\n",
    "@interact(x=firstUserDropdownWidget, y=secondUserDropdownWidget)\n",
    "def plotFeatures(x, y):\n",
    "    sub = data.table.loc[(data.table[\"user_id\"] == x) | (data.table[\"user_id\"] == y),\n",
    "                        [\"user_id\", \"rrTime0\", \"rrTime1\", \"rrTime2\"]]\n",
    "    ax2d.scatter(sub[\"rrTime0\"], sub[\"rrTime1\"], c=sub[\"user_id\"])\n",
    "    ax3d.scatter(sub[\"rrTime0\"], sub[\"rrTime1\"], sub[\"rrTime2\"], c=sub[\"user_id\"])"
   ]
  },
  {
   "cell_type": "code",
   "execution_count": null,
   "metadata": {},
   "outputs": [],
   "source": []
  }
 ],
 "metadata": {
  "kernelspec": {
   "display_name": "Python 3",
   "language": "python",
   "name": "python3"
  },
  "language_info": {
   "codemirror_mode": {
    "name": "ipython",
    "version": 3
   },
   "file_extension": ".py",
   "mimetype": "text/x-python",
   "name": "python",
   "nbconvert_exporter": "python",
   "pygments_lexer": "ipython3",
   "version": "3.7.2"
  }
 },
 "nbformat": 4,
 "nbformat_minor": 2
}
