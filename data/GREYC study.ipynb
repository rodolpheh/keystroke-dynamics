{
 "cells": [
  {
   "cell_type": "code",
   "execution_count": 5,
   "metadata": {},
   "outputs": [
    {
     "name": "stdout",
     "output_type": "stream",
     "text": [
      "Maximum: 54077760.0\n",
      "Minimum: 0.0\n"
     ]
    }
   ],
   "source": [
    "import numpy as np\n",
    "from IPython.display import display\n",
    "\n",
    "from Data import Data\n",
    "\n",
    "data = Data()\n",
    "samples = data.getSamples()\n",
    "targets = data.getTargets()\n",
    "\n",
    "minimum = np.array(samples, dtype=np.float64).min(axis=0).min(axis=0)\n",
    "maximum = np.array(samples, dtype=np.float64).max(axis=0).max(axis=0)\n",
    "print(\"Maximum: \" + str(maximum))\n",
    "print(\"Minimum: \" + str(minimum))"
   ]
  },
  {
   "cell_type": "code",
   "execution_count": 111,
   "metadata": {
    "scrolled": true
   },
   "outputs": [
    {
     "data": {
      "application/vnd.jupyter.widget-view+json": {
       "model_id": "ef26bd3b2b74499284ae32ace8d00547",
       "version_major": 2,
       "version_minor": 0
      },
      "text/plain": [
       "interactive(children=(IntRangeSlider(value=(1, 6), continuous_update=False, description='Test:', layout=Layout…"
      ]
     },
     "metadata": {},
     "output_type": "display_data"
    }
   ],
   "source": [
    "from ipywidgets import interact, interactive, fixed, interact_manual\n",
    "import ipywidgets as widgets\n",
    "\n",
    "import pandas as pd\n",
    "import matplotlib.pyplot as plt\n",
    "\n",
    "targetsGroup = []\n",
    "for target in targets:\n",
    "    if target not in targetsGroup:\n",
    "        targetsGroup.append(target)\n",
    "\n",
    "groupedSamples = [[] for i in range(len(targetsGroup))]\n",
    "means = []\n",
    "for i in range(len(targetsGroup)):\n",
    "    for j in range(len(samples)):\n",
    "        if targets[j] == i + 1:\n",
    "            groupedSamples[i].append(np.array(samples[j]))\n",
    "    groupedSamples[i] = np.array(groupedSamples[i])\n",
    "\n",
    "for group in groupedSamples:\n",
    "    group2 = np.array(group, dtype=np.float64)\n",
    "    mean = []\n",
    "    for i in range(group2.shape[1]):\n",
    "        a = group2[:, i - 1]\n",
    "        a = a.mean()\n",
    "        mean.append(a)\n",
    "    means.append(mean)\n",
    "\n",
    "dataFrame = pd.DataFrame(means)\n",
    "\n",
    "usersRangeWidget = widgets.IntRangeSlider(\n",
    "    value=[1, 6],\n",
    "    min=min(targetsGroup),\n",
    "    max=max(targetsGroup),\n",
    "    step=1,\n",
    "    description='Test:',\n",
    "    disabled=False,\n",
    "    continuous_update=False,\n",
    "    orientation='horizontal',\n",
    "    readout=True,\n",
    "    readout_format='d',\n",
    ")\n",
    "usersRangeWidget.layout.width = '100%'\n",
    "\n",
    "@interact(x=usersRangeWidget)\n",
    "def updatePlots(x):\n",
    "    meansPlot = dataFrame.iloc[x[0]:x[1]].T\n",
    "    meansPlot.plot(legend=False).set_ylim(dataFrame.min(axis=0).min(axis=0), dataFrame.max(axis=0).max(axis=0))"
   ]
  },
  {
   "cell_type": "code",
   "execution_count": 8,
   "metadata": {
    "scrolled": false
   },
   "outputs": [
    {
     "data": {
      "application/vnd.jupyter.widget-view+json": {
       "model_id": "c6f87f847dce434a821b6e40b393f6b5",
       "version_major": 2,
       "version_minor": 0
      },
      "text/plain": [
       "interactive(children=(Dropdown(description='User:', options=(1, 2, 3, 4, 5, 6, 7, 8, 9, 10, 11, 12, 13, 14, 15…"
      ]
     },
     "metadata": {},
     "output_type": "display_data"
    }
   ],
   "source": [
    "usersDDWidget = widgets.Dropdown(\n",
    "    options=targetsGroup,\n",
    "    value=1,\n",
    "    description='User:',\n",
    "    disabled=False,\n",
    ")\n",
    "\n",
    "@interact(x=usersDDWidget)\n",
    "def plotUserData(x):\n",
    "    usersSamples = pd.DataFrame(groupedSamples[x])\n",
    "    usersSamples.astype(float).T.plot(legend=False).set_ylim(minimum, maximum)\n"
   ]
  },
  {
   "cell_type": "code",
   "execution_count": 162,
   "metadata": {},
   "outputs": [
    {
     "data": {
      "text/plain": [
       "<matplotlib.axes._subplots.AxesSubplot at 0x7f22c3dde278>"
      ]
     },
     "execution_count": 162,
     "metadata": {},
     "output_type": "execute_result"
    },
    {
     "data": {
      "image/png": "[encoded data removed]",
      "text/plain": [
       "<Figure size 432x288 with 2 Axes>"
      ]
     },
     "metadata": {
      "needs_background": "light"
     },
     "output_type": "display_data"
    }
   ],
   "source": [
    "test = pd.DataFrame(np.concatenate((samples[:], targets[:, None]), axis=1),\n",
    "                    columns=np.append(data.getHeaders(), \"target\"))\n",
    "test.loc[(test[\"target\"]==1) | (test[\"target\"]==3)].plot(kind=\"scatter\", x=\"rrTime0\", y=\"rrTime14\", c=\"target\", colormap='jet')"
   ]
  },
  {
   "cell_type": "code",
   "execution_count": null,
   "metadata": {},
   "outputs": [],
   "source": []
  },
  {
   "cell_type": "code",
   "execution_count": null,
   "metadata": {},
   "outputs": [],
   "source": []
  }
 ],
 "metadata": {
  "kernelspec": {
   "display_name": "Python 3",
   "language": "python",
   "name": "python3"
  },
  "language_info": {
   "codemirror_mode": {
    "name": "ipython",
    "version": 3
   },
   "file_extension": ".py",
   "mimetype": "text/x-python",
   "name": "python",
   "nbconvert_exporter": "python",
   "pygments_lexer": "ipython3",
   "version": "3.7.0"
  }
 },
 "nbformat": 4,
 "nbformat_minor": 2
}
