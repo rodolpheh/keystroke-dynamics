{
 "cells": [
  {
   "cell_type": "code",
   "execution_count": 1,
   "metadata": {},
   "outputs": [
    {
     "name": "stdout",
     "output_type": "stream",
     "text": [
      "Maximum: 54077760.0\n",
      "Minimum: 0.0\n"
     ]
    }
   ],
   "source": [
    "%matplotlib widget\n",
    "\n",
    "import numpy as np\n",
    "from IPython.display import display\n",
    "\n",
    "from Data import Data\n",
    "\n",
    "data = Data()\n",
    "samples = data.getSamples()\n",
    "targets = data.getTargets()\n",
    "\n",
    "minimum = np.array(samples, dtype=np.float64).min(axis=0).min(axis=0)\n",
    "maximum = np.array(samples, dtype=np.float64).max(axis=0).max(axis=0)\n",
    "print(\"Maximum: \" + str(maximum))\n",
    "print(\"Minimum: \" + str(minimum))"
   ]
  },
  {
   "cell_type": "code",
   "execution_count": 2,
   "metadata": {
    "scrolled": true
   },
   "outputs": [
    {
     "data": {
      "application/vnd.jupyter.widget-view+json": {
       "model_id": "ad544feb53904939b1e123025d09220a",
       "version_major": 2,
       "version_minor": 0
      },
      "text/plain": [
       "interactive(children=(IntRangeSlider(value=(1, 6), continuous_update=False, description='Test:', layout=Layout…"
      ]
     },
     "metadata": {},
     "output_type": "display_data"
    }
   ],
   "source": [
    "from ipywidgets import interact, interactive, fixed, interact_manual\n",
    "import ipywidgets as widgets\n",
    "\n",
    "import pandas as pd\n",
    "import matplotlib.pyplot as plt\n",
    "\n",
    "targetsGroup = []\n",
    "for target in targets:\n",
    "    if target not in targetsGroup:\n",
    "        targetsGroup.append(target)\n",
    "\n",
    "groupedSamples = [[] for i in range(len(targetsGroup))]\n",
    "means = []\n",
    "for i in range(len(targetsGroup)):\n",
    "    for j in range(len(samples)):\n",
    "        if targets[j] == i + 1:\n",
    "            groupedSamples[i].append(np.array(samples[j]))\n",
    "    groupedSamples[i] = np.array(groupedSamples[i])\n",
    "\n",
    "for group in groupedSamples:\n",
    "    group2 = np.array(group, dtype=np.float64)\n",
    "    mean = []\n",
    "    for i in range(group2.shape[1]):\n",
    "        a = group2[:, i - 1]\n",
    "        a = a.mean()\n",
    "        mean.append(a)\n",
    "    means.append(mean)\n",
    "\n",
    "dataFrame = pd.DataFrame(means)\n",
    "\n",
    "usersRangeWidget = widgets.IntRangeSlider(\n",
    "    value=[1, 6],\n",
    "    min=min(targetsGroup),\n",
    "    max=max(targetsGroup),\n",
    "    step=1,\n",
    "    description='Test:',\n",
    "    disabled=False,\n",
    "    continuous_update=False,\n",
    "    orientation='horizontal',\n",
    "    readout=True,\n",
    "    readout_format='d',\n",
    ")\n",
    "usersRangeWidget.layout.width = '100%'\n",
    "\n",
    "@interact(x=usersRangeWidget)\n",
    "def updatePlots(x):\n",
    "    meansPlot = dataFrame.iloc[x[0]:x[1]].T\n",
    "    meansPlot.plot(legend=False).set_ylim(dataFrame.min(axis=0).min(axis=0), dataFrame.max(axis=0).max(axis=0))"
   ]
  },
  {
   "cell_type": "code",
   "execution_count": 3,
   "metadata": {
    "scrolled": false
   },
   "outputs": [
    {
     "data": {
      "application/vnd.jupyter.widget-view+json": {
       "model_id": "c8b3d3f3418f4883898dd6a6f369d3d4",
       "version_major": 2,
       "version_minor": 0
      },
      "text/plain": [
       "interactive(children=(Dropdown(description='User:', options=(1, 2, 3, 4, 5, 6, 7, 8, 9, 10, 11, 12, 13, 14, 15…"
      ]
     },
     "metadata": {},
     "output_type": "display_data"
    }
   ],
   "source": [
    "usersDDWidget = widgets.Dropdown(\n",
    "    options=targetsGroup,\n",
    "    value=1,\n",
    "    description='User:',\n",
    "    disabled=False,\n",
    ")\n",
    "\n",
    "@interact(x=usersDDWidget)\n",
    "def plotUserData(x):\n",
    "    usersSamples = pd.DataFrame(groupedSamples[x])\n",
    "    usersSamples.astype(float).T.plot(legend=False).set_ylim(minimum, maximum)\n"
   ]
  },
  {
   "cell_type": "code",
   "execution_count": 5,
   "metadata": {},
   "outputs": [
    {
     "data": {
      "application/vnd.jupyter.widget-view+json": {
       "model_id": "6cfe450514ba4b1d8374865f25ec024b",
       "version_major": 2,
       "version_minor": 0
      },
      "text/plain": [
       "interactive(children=(Dropdown(description='First user:', options=(1, 2, 3, 4, 5, 6, 7, 8, 9, 10, 11, 12, 13, …"
      ]
     },
     "metadata": {},
     "output_type": "display_data"
    },
    {
     "data": {
      "application/vnd.jupyter.widget-view+json": {
       "model_id": "ca08737af2d3491b952c9d1e491c7989",
       "version_major": 2,
       "version_minor": 0
      },
      "text/plain": [
       "FigureCanvasNbAgg()"
      ]
     },
     "metadata": {},
     "output_type": "display_data"
    },
    {
     "data": {
      "application/vnd.jupyter.widget-view+json": {
       "model_id": "c48686114d8c4126b5dc26cb16b9456b",
       "version_major": 2,
       "version_minor": 0
      },
      "text/plain": [
       "FigureCanvasNbAgg()"
      ]
     },
     "metadata": {},
     "output_type": "display_data"
    }
   ],
   "source": [
    "# This import registers the 3D projection, but is otherwise unused.\n",
    "from mpl_toolkits.mplot3d import Axes3D  # noqa: F401 unused import\n",
    "\n",
    "firstUserDropdownWidget = widgets.Dropdown(\n",
    "    options=data.table[\"user_id\"].drop_duplicates(),\n",
    "    value=1,\n",
    "    description='First user:',\n",
    "    disabled=False,\n",
    ")\n",
    "\n",
    "secondUserDropdownWidget = widgets.Dropdown(\n",
    "    options=data.table[\"user_id\"].drop_duplicates(),\n",
    "    value=2,\n",
    "    description='Second user:',\n",
    "    disabled=False,\n",
    ")\n",
    "\n",
    "@interact(x=firstUserDropdownWidget, y=secondUserDropdownWidget)\n",
    "def plotFeatures(x, y):\n",
    "    sub = data.table.loc[(data.table[\"user_id\"] == x) | (data.table[\"user_id\"] == y),\n",
    "                        [\"user_id\", \"rrTime0\", \"rrTime1\", \"rrTime2\"]]\n",
    "    \n",
    "    ax2d.scatter(sub[\"rrTime0\"], sub[\"rrTime1\"], c=sub[\"user_id\"])\n",
    "    ax2d.set_xlabel('rrTime0')\n",
    "    ax2d.set_ylabel('rrTime1')\n",
    "    \n",
    "    ax3d.scatter(sub[\"rrTime0\"], sub[\"rrTime1\"], sub[\"rrTime2\"], c=sub[\"user_id\"])\n",
    "    ax3d.set_xlabel('rrTime0')\n",
    "    ax3d.set_ylabel('rrTime1')\n",
    "    ax3d.set_zlabel('rrTime2')\n",
    "    \n",
    "    \n",
    "fig2 = plt.figure()\n",
    "\n",
    "fig = plt.figure()\n",
    "ax2d = fig2.add_subplot(111)\n",
    "ax3d = fig.add_subplot(111, projection='3d')"
   ]
  },
  {
   "cell_type": "code",
   "execution_count": null,
   "metadata": {},
   "outputs": [],
   "source": []
  }
 ],
 "metadata": {
  "kernelspec": {
   "display_name": "Python 3",
   "language": "python",
   "name": "python3"
  },
  "language_info": {
   "codemirror_mode": {
    "name": "ipython",
    "version": 3
   },
   "file_extension": ".py",
   "mimetype": "text/x-python",
   "name": "python",
   "nbconvert_exporter": "python",
   "pygments_lexer": "ipython3",
   "version": "3.7.2"
  }
 },
 "nbformat": 4,
 "nbformat_minor": 2
}
