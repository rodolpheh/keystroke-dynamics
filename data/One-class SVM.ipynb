{
 "cells": [
  {
   "cell_type": "markdown",
   "metadata": {},
   "source": [
    "# One-class SVM\n",
    "\n",
    ">One-class SVM is an unsupervised algorithm that learns a decision function for novelty detection: classifying new data as similar or different to the training set.\n",
    "\n",
    "[Scikit-learn documentation](https://scikit-learn.org/stable/auto_examples/svm/plot_oneclass.html)"
   ]
  },
  {
   "cell_type": "code",
   "execution_count": 1,
   "metadata": {},
   "outputs": [],
   "source": [
    "import pandas as pd\n",
    "import numpy as np\n",
    "\n",
    "import matplotlib.pyplot as plt\n",
    "import matplotlib.font_manager\n",
    "from matplotlib.colors import ListedColormap\n",
    "\n",
    "# Every scikit-learn import\n",
    "from sklearn.svm import OneClassSVM\n",
    "from sklearn.preprocessing import StandardScaler, MinMaxScaler\n",
    "\n",
    "from Data import Data"
   ]
  },
  {
   "cell_type": "code",
   "execution_count": 111,
   "metadata": {},
   "outputs": [],
   "source": [
    "data = Data()\n",
    "\n",
    "columns = [\"rrTime\" + str(index) for index in range(15)]\n",
    "columns.extend([\"ppTime\" + str(index) for index in range(15)])\n",
    "columns.extend([\"rpTime\" + str(index) for index in range(15)])\n",
    "columns.extend([\"prTime\" + str(index) for index in range(15)])\n",
    "\n",
    "xx, yy = np.meshgrid(np.linspace(-10, 10, 500), np.linspace(-10, 10, 500))\n",
    "Xpred = np.array([xx.ravel(), yy.ravel()] + [np.repeat(0, xx.ravel().size) for _ in range(58)]).T\n",
    "user_index = 1"
   ]
  },
  {
   "cell_type": "markdown",
   "metadata": {},
   "source": [
    "## Extracting the data"
   ]
  },
  {
   "cell_type": "code",
   "execution_count": 112,
   "metadata": {},
   "outputs": [],
   "source": [
    "# We select the data of the user\n",
    "studiedUserData = data.table.loc[(data.table[\"user_id\"] == user_index), columns].astype('float')\n",
    "# We create a random boolean mask to select around 80% of the data\n",
    "studiedUserMsk = np.random.rand(len(studiedUserData)) < 0.8\n",
    "# We select the rest of the data. It will be used as outliers.\n",
    "otherUsersData = data.table.loc[(data.table[\"user_id\"] != user_index), columns].astype('float')\n",
    "\n",
    "# Training and testing data are for training on and testing normal data\n",
    "X_train = studiedUserData[studiedUserMsk]\n",
    "X_test = studiedUserData[~studiedUserMsk]\n",
    "\n",
    "# Abnormal data (used only for prediction)\n",
    "X_outliers = otherUsersData\n",
    "\n",
    "# Fitting a standard scaler (mean = 0, var = 1.0)\n",
    "#scaler = StandardScaler()\n",
    "\n",
    "# According to https://www.csie.ntu.edu.tw/~cjlin/papers/guide/guide.pdf\n",
    "# data for SVM should be linearly scaled to the range [0, 1] or [-1, 1]\n",
    "# Also, the scaler should be fitted on the training data only before transforming\n",
    "# the rest of the data\n",
    "scaler = MinMaxScaler((0, 1))\n",
    "scaler.fit(X_train)\n",
    "\n",
    "# Scaling the data. We use the scaler that have been fitted to the training data\n",
    "X_train = scaler.transform(X_train)\n",
    "X_test = scaler.transform(X_test)\n",
    "X_outliers = scaler.transform(X_outliers)"
   ]
  },
  {
   "cell_type": "code",
   "execution_count": 113,
   "metadata": {},
   "outputs": [
    {
     "name": "stdout",
     "output_type": "stream",
     "text": [
      "False negative on training data : 3/43, 6.977%\n",
      "False negative on testing data : 0/12, 0.000%\n",
      "False positive on abnormal data : 94/3715, 2.530%\n"
     ]
    }
   ],
   "source": [
    "# Fit the One Class SVM model\n",
    "clf = OneClassSVM(nu=0.01, kernel=\"rbf\", gamma=0.01)\n",
    "clf.fit(X_train)\n",
    "\n",
    "# Predict on all data\n",
    "y_pred_train = clf.predict(X_train)\n",
    "y_pred_test = clf.predict(X_test)\n",
    "y_pred_outliers = clf.predict(X_outliers)\n",
    "\n",
    "# Some metrics\n",
    "n_error_train = y_pred_train[y_pred_train == -1].size\n",
    "n_error_test = y_pred_test[y_pred_test == -1].size\n",
    "n_error_outliers = y_pred_outliers[y_pred_outliers == 1].size\n",
    "\n",
    "print(\"False negative on training data : {0}/{1}, {2:.3f}%\".format(n_error_train,\n",
    "                                                                  X_train.shape[0],\n",
    "                                                                  n_error_train / X_train.shape[0] * 100))\n",
    "print(\"False negative on testing data : {0}/{1}, {2:.3f}%\".format(n_error_test,\n",
    "                                                                 X_test.shape[0],\n",
    "                                                                 n_error_test / X_test.shape[0] * 100))\n",
    "print(\"False positive on abnormal data : {0}/{1}, {2:.3f}%\".format(n_error_outliers,\n",
    "                                                                  X_outliers.shape[0],\n",
    "                                                                  n_error_outliers / X_outliers.shape[0] * 100))"
   ]
  },
  {
   "cell_type": "markdown",
   "metadata": {},
   "source": [
    "## Plotting the decision function\n",
    "\n",
    "Apparently, this is not very significative. When the 60-dimensional points are projected on a 2-dimensional plane, abnormal data overlap the area included inside the decision function.\n",
    "\n",
    "Plus, I do have issues for plotting the frontiers."
   ]
  },
  {
   "cell_type": "code",
   "execution_count": 108,
   "metadata": {},
   "outputs": [
    {
     "name": "stderr",
     "output_type": "stream",
     "text": [
      "/media/data/rodolphe/Documents/Etudes/ISEN/AP4/Projet/data/env/lib/python3.7/site-packages/matplotlib/contour.py:1243: UserWarning: No contour levels were found within the data range.\n",
      "  warnings.warn(\"No contour levels were found\"\n"
     ]
    },
    {
     "data": {
      "image/png": "[encoded data removed]",
      "text/plain": [
       "<Figure size 432x288 with 1 Axes>"
      ]
     },
     "metadata": {
      "needs_background": "light"
     },
     "output_type": "display_data"
    }
   ],
   "source": [
    "Z = clf.decision_function(Xpred)\n",
    "Z = Z.reshape(xx.shape)\n",
    "\n",
    "plt.title(\"Novelty Detection\")\n",
    "plt.contourf(xx, yy, Z, levels=np.linspace(Z.min(), 0, 7), cmap=plt.cm.PuBu)\n",
    "a = plt.contour(xx, yy, Z, levels=[0], linewidths=2, colors='darkred')\n",
    "#plt.contourf(xx, yy, Z, levels=np.linspace(0, Z.max(), 7), colors='palevioletred')\n",
    "\n",
    "s = 40\n",
    "b1 = plt.scatter(X_train[:, 0], X_train[:, 1], c='white', s=s, edgecolors='k')\n",
    "b2 = plt.scatter(X_test[:, 0], X_test[:, 1], c='blueviolet', s=s,\n",
    "                 edgecolors='k')\n",
    "c = plt.scatter(X_outliers[:20, 0], X_outliers[:20, 1], c='gold', s=s,\n",
    "                edgecolors='k')\n",
    "plt.axis('tight')\n",
    "plt.xlim((-5, 5))\n",
    "plt.ylim((-5, 5))\n",
    "plt.legend([a.collections[0], b1, b2, c],\n",
    "           [\"learned frontier\",\n",
    "            \"training observations\",\n",
    "            \"new regular observations\",\n",
    "            \"new abnormal observations\"],\n",
    "           loc=\"upper left\", prop=matplotlib.font_manager.FontProperties(size=11))\n",
    "plt.xlabel(\"error train: %d/%d ; errors novel regular: %d/%d ; errors novel abnormal: %d/%d\" % (n_error_train, X_train.shape[0], n_error_test, X_test.shape[0], n_error_outliers, X_outliers.shape[0]))\n",
    "plt.show()"
   ]
  },
  {
   "cell_type": "code",
   "execution_count": null,
   "metadata": {},
   "outputs": [],
   "source": []
  },
  {
   "cell_type": "code",
   "execution_count": null,
   "metadata": {},
   "outputs": [],
   "source": []
  }
 ],
 "metadata": {
  "kernelspec": {
   "display_name": "Python 3",
   "language": "python",
   "name": "python3"
  },
  "language_info": {
   "codemirror_mode": {
    "name": "ipython",
    "version": 3
   },
   "file_extension": ".py",
   "mimetype": "text/x-python",
   "name": "python",
   "nbconvert_exporter": "python",
   "pygments_lexer": "ipython3",
   "version": "3.7.2"
  }
 },
 "nbformat": 4,
 "nbformat_minor": 2
}
