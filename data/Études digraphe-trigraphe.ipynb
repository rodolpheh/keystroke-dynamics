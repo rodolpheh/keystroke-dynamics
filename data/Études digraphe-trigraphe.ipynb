{
 "cells": [
  {
   "cell_type": "markdown",
   "metadata": {},
   "source": [
    "# Digraphs and trigraphs in the French language\n",
    "\n",
    "We will use \"À l'ombre des jeunes filles en fleurs\" by Marcel Proust."
   ]
  },
  {
   "cell_type": "code",
   "execution_count": 1,
   "metadata": {},
   "outputs": [],
   "source": [
    "with open(\"proust\", 'r') as f:\n",
    "    lines = f.readlines()"
   ]
  },
  {
   "cell_type": "markdown",
   "metadata": {},
   "source": [
    "## Digraphs\n",
    "\n",
    "We can study the digraphs by looping through pairs of characters in all the strings. When a new digraph is discovered, we add it to a dictionary. Each entry to this dictionary holds a counter which is incremented each time the digraphs is seen again."
   ]
  },
  {
   "cell_type": "code",
   "execution_count": 2,
   "metadata": {},
   "outputs": [
    {
     "name": "stdout",
     "output_type": "stream",
     "text": [
      "e : 56757 - 4.614%\n",
      "s : 34662 - 2.818%\n",
      "t : 26915 - 2.188%\n",
      " d: 25632 - 2.084%\n",
      "ai: 20090 - 1.633%\n",
      "es: 18935 - 1.539%\n",
      " l: 18428 - 1.498%\n",
      " p: 17769 - 1.444%\n",
      "en: 17676 - 1.437%\n",
      "le: 17410 - 1.415%\n",
      ", : 16184 - 1.316%\n",
      "nt: 15922 - 1.294%\n",
      "re: 15690 - 1.275%\n",
      "de: 15603 - 1.268%\n",
      "qu: 14973 - 1.217%\n",
      " c: 14148 - 1.150%\n",
      "ou: 13344 - 1.085%\n",
      "on: 13264 - 1.078%\n",
      " s: 13133 - 1.068%\n",
      "n : 12648 - 1.028%\n",
      "it: 12642 - 1.028%\n"
     ]
    }
   ],
   "source": [
    "digraphs = {}\n",
    "total_digraphs = 0\n",
    "for line in lines:\n",
    "    length = len(line)\n",
    "    for i in range(1, length):\n",
    "        total_digraphs += 1\n",
    "        if (line[i - 1] + line[i]) not in digraphs.keys():\n",
    "            digraphs[line[i - 1] + line[i]] = 1\n",
    "        else:\n",
    "            digraphs[line[i - 1] + line[i]] += 1\n",
    "\n",
    "for digraph in sorted(digraphs, key=lambda x: digraphs[x], reverse=True)[:21]:\n",
    "    print(\"{0}: {1} - {2:.3f}%\".format(digraph, digraphs[digraph], digraphs[digraph] * 100 / total_digraphs))"
   ]
  },
  {
   "cell_type": "markdown",
   "metadata": {},
   "source": [
    "As seen above, the most used digraphs in a Proust book are \"e \", \"s \", \"t \", \" d\" and \"ai\"\n",
    "\n",
    "## Trigraphs\n",
    "\n",
    "We can do the same with the trigraphs"
   ]
  },
  {
   "cell_type": "code",
   "execution_count": 3,
   "metadata": {},
   "outputs": [
    {
     "name": "stdout",
     "output_type": "stream",
     "text": [
      " de: 13291 - 1.081%\n",
      "es : 12413 - 1.010%\n",
      " qu: 11664 - 0.949%\n",
      "de : 10431 - 0.848%\n",
      "nt : 8981 - 0.731%\n",
      "it : 8452 - 0.687%\n",
      "ent: 8263 - 0.672%\n",
      "ait: 8014 - 0.652%\n",
      "le : 7904 - 0.643%\n",
      "que: 7678 - 0.625%\n",
      " le: 7266 - 0.591%\n",
      "e d: 7016 - 0.571%\n",
      "re : 6410 - 0.521%\n",
      "ne : 6170 - 0.502%\n",
      "ais: 5953 - 0.484%\n",
      "ue : 5862 - 0.477%\n",
      "is : 5826 - 0.474%\n",
      " pa: 5741 - 0.467%\n",
      "lle: 5717 - 0.465%\n",
      "e l: 5498 - 0.447%\n",
      " la: 5376 - 0.437%\n"
     ]
    }
   ],
   "source": [
    "trigraphs = {}\n",
    "total_trigraphs = 0\n",
    "for line in lines:\n",
    "    length = len(line)\n",
    "    for i in range(2, length):\n",
    "        total_trigraphs += 1\n",
    "        if (line[i - 2] + line[i - 1] + line[i]) not in trigraphs.keys():\n",
    "            trigraphs[line[i - 2] + line[i - 1] + line[i]] = 1\n",
    "        else:\n",
    "            trigraphs[line[i - 2] + line[i - 1] + line[i]] += 1\n",
    "\n",
    "for trigraph in sorted(trigraphs, key=lambda x: trigraphs[x], reverse=True)[:21]:\n",
    "    print(\"{0}: {1} - {2:.3f}%\".format(trigraph, trigraphs[trigraph], trigraphs[trigraph] * 100 / total_trigraphs))"
   ]
  },
  {
   "cell_type": "code",
   "execution_count": null,
   "metadata": {},
   "outputs": [],
   "source": []
  },
  {
   "cell_type": "code",
   "execution_count": null,
   "metadata": {},
   "outputs": [],
   "source": []
  }
 ],
 "metadata": {
  "kernelspec": {
   "display_name": "Python 3",
   "language": "python",
   "name": "python3"
  },
  "language_info": {
   "codemirror_mode": {
    "name": "ipython",
    "version": 3
   },
   "file_extension": ".py",
   "mimetype": "text/x-python",
   "name": "python",
   "nbconvert_exporter": "python",
   "pygments_lexer": "ipython3",
   "version": "3.7.2"
  }
 },
 "nbformat": 4,
 "nbformat_minor": 2
}
