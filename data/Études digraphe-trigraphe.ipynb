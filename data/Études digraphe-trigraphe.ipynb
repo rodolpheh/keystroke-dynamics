{
 "cells": [
  {
   "cell_type": "code",
   "execution_count": 16,
   "metadata": {},
   "outputs": [],
   "source": [
    "with open(\"proust\", 'r') as f:\n",
    "    lines = f.readlines()"
   ]
  },
  {
   "cell_type": "code",
   "execution_count": 36,
   "metadata": {},
   "outputs": [
    {
     "name": "stdout",
     "output_type": "stream",
     "text": [
      "1280\n",
      "e  : 56757 - 4.613576304017909\n",
      "s  : 34662 - 2.8175517002284964\n",
      "t  : 26915 - 2.1878253999091215\n",
      " d : 25632 - 2.083534856045722\n",
      "ai : 20090 - 1.6330452269802807\n",
      "es : 18935 - 1.5391593515615538\n",
      " l : 18428 - 1.4979471101439827\n",
      " p : 17769 - 1.4443793249483627\n",
      "en : 17676 - 1.4368196830315303\n",
      "le : 17410 - 1.4151974814199446\n",
      ",  : 16184 - 1.3155402664733133\n",
      "nt : 15922 - 1.2942432107506237\n",
      "re : 15690 - 1.2753847491946542\n",
      "de : 15603 - 1.2683128261111658\n",
      "qu : 14973 - 1.217102348610042\n",
      " c : 14148 - 1.150041009025237\n",
      "ou : 13344 - 1.0846866853571362\n",
      "on : 13264 - 1.0781837675792156\n",
      " s : 13133 - 1.067535239717871\n",
      "n  : 12648 - 1.028111300689228\n",
      "it : 12642 - 1.0276235818558839\n"
     ]
    }
   ],
   "source": [
    "digraphs = {}\n",
    "total_digraphs = 0\n",
    "for line in lines:\n",
    "    length = len(line)\n",
    "    for i in range(1, length):\n",
    "        total_digraphs += 1\n",
    "        if (line[i - 1] + line[i]) not in digraphs.keys():\n",
    "            digraphs[line[i - 1] + line[i]] = 1\n",
    "        else:\n",
    "            digraphs[line[i - 1] + line[i]] += 1\n",
    "\n",
    "for digraph in sorted(digraphs, key=lambda x: digraphs[x], reverse=True)[:21]:\n",
    "    print(digraph + \" : \" + str(digraphs[digraph]) + \" - \" + str(digraphs[digraph] * 100 / total_digraphs))"
   ]
  },
  {
   "cell_type": "code",
   "execution_count": 34,
   "metadata": {},
   "outputs": [
    {
     "name": "stdout",
     "output_type": "stream",
     "text": [
      "8793\n",
      " de : 13291 - 1.08108503814422\n",
      "es  : 12413 - 1.0096688419595368\n",
      " qu : 11664 - 0.9487454581983434\n",
      "de  : 10431 - 0.8484536929412655\n",
      "nt  : 8981 - 0.7305112277159913\n",
      "it  : 8452 - 0.6874825628165637\n",
      "ent : 8263 - 0.6721093725216831\n",
      "ait : 8014 - 0.6518558043554119\n",
      "le  : 7904 - 0.642908444924529\n",
      "que : 7678 - 0.6245256882756243\n",
      " le : 7266 - 0.5910137602254084\n",
      "e d : 7016 - 0.5706788524279474\n",
      "re  : 6410 - 0.5213870359269017\n",
      "ne  : 6170 - 0.501865524441339\n",
      "ais : 5953 - 0.48421482447314285\n",
      "ue  : 5862 - 0.47681291803486703\n",
      "is  : 5826 - 0.47388469131203265\n",
      " pa : 5741 - 0.4669708226608959\n",
      "lle : 5717 - 0.4650186715123396\n",
      "e l : 5498 - 0.44720529228176376\n",
      " la : 5376 - 0.43728185727660274\n"
     ]
    }
   ],
   "source": [
    "trigraphs = {}\n",
    "total_trigraphs = 0\n",
    "for line in lines:\n",
    "    length = len(line)\n",
    "    for i in range(2, length):\n",
    "        total_trigraphs += 1\n",
    "        if (line[i - 2] + line[i - 1] + line[i]) not in trigraphs.keys():\n",
    "            trigraphs[line[i - 2] + line[i - 1] + line[i]] = 1\n",
    "        else:\n",
    "            trigraphs[line[i - 2] + line[i - 1] + line[i]] += 1\n",
    "\n",
    "for trigraph in sorted(trigraphs, key=lambda x: trigraphs[x], reverse=True)[:21]:\n",
    "    print(trigraph + \" : \" + str(trigraphs[trigraph]) + \" - \" + str(trigraphs[trigraph] * 100 / total_trigraphs))"
   ]
  },
  {
   "cell_type": "code",
   "execution_count": null,
   "metadata": {},
   "outputs": [],
   "source": []
  }
 ],
 "metadata": {
  "kernelspec": {
   "display_name": "Python 3",
   "language": "python",
   "name": "python3"
  },
  "language_info": {
   "codemirror_mode": {
    "name": "ipython",
    "version": 3
   },
   "file_extension": ".py",
   "mimetype": "text/x-python",
   "name": "python",
   "nbconvert_exporter": "python",
   "pygments_lexer": "ipython3",
   "version": "3.7.0"
  }
 },
 "nbformat": 4,
 "nbformat_minor": 2
}
