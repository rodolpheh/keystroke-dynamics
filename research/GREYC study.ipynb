{
 "cells": [
  {
   "cell_type": "code",
   "execution_count": 1,
   "metadata": {},
   "outputs": [],
   "source": [
    "%matplotlib ipympl\n",
    "import matplotlib.pyplot as plt\n",
    "\n",
    "import numpy as np\n",
    "from IPython.display import display\n",
    "from ipywidgets import interact, interactive, fixed, interact_manual\n",
    "import ipywidgets as widgets\n",
    "import pandas as pd\n",
    "\n",
    "from Data import Data"
   ]
  },
  {
   "cell_type": "code",
   "execution_count": 2,
   "metadata": {},
   "outputs": [
    {
     "name": "stdout",
     "output_type": "stream",
     "text": [
      "Maximum: 54077760.0\n",
      "Minimum: 0.0\n",
      "User 1   -  55 records\n",
      "User 3   -  50 records\n",
      "User 2   -  46 records\n",
      "User 27  -  43 records\n",
      "User 100 -  42 records\n",
      "User 82  -  42 records\n",
      "User 61  -  42 records\n",
      "User 7   -  42 records\n",
      "User 5   -  42 records\n",
      "User 50  -  37 records\n",
      "User 45  -  37 records\n",
      "User 42  -  37 records\n",
      "User 28  -  37 records\n",
      "User 106 -  36 records\n",
      "User 103 -  36 records\n",
      "User 101 -  36 records\n",
      "User 98  -  36 records\n",
      "User 96  -  36 records\n",
      "User 94  -  36 records\n",
      "User 88  -  36 records\n",
      "User 86  -  36 records\n",
      "User 80  -  36 records\n",
      "User 79  -  36 records\n",
      "User 75  -  36 records\n",
      "User 68  -  36 records\n",
      "User 64  -  36 records\n",
      "User 62  -  36 records\n",
      "User 53  -  36 records\n",
      "User 49  -  36 records\n",
      "User 48  -  36 records\n",
      "User 47  -  36 records\n",
      "User 46  -  36 records\n",
      "User 43  -  36 records\n",
      "User 41  -  36 records\n",
      "User 40  -  36 records\n",
      "User 39  -  36 records\n",
      "User 37  -  36 records\n",
      "User 36  -  36 records\n",
      "User 35  -  36 records\n",
      "User 26  -  36 records\n",
      "User 25  -  36 records\n",
      "User 12  -  36 records\n",
      "User 11  -  36 records\n",
      "User 10  -  36 records\n",
      "User 6   -  36 records\n",
      "User 4   -  36 records\n",
      "User 38  -  35 records\n",
      "User 132 -  31 records\n",
      "User 129 -  31 records\n",
      "User 115 -  31 records\n",
      "User 108 -  31 records\n",
      "User 105 -  31 records\n",
      "User 97  -  31 records\n",
      "User 81  -  31 records\n",
      "User 32  -  31 records\n",
      "User 19  -  31 records\n",
      "User 9   -  31 records\n",
      "User 130 -  30 records\n",
      "User 127 -  30 records\n",
      "User 119 -  30 records\n",
      "User 107 -  30 records\n",
      "User 104 -  30 records\n",
      "User 102 -  30 records\n",
      "User 99  -  30 records\n",
      "User 95  -  30 records\n",
      "User 93  -  30 records\n",
      "User 92  -  30 records\n",
      "User 91  -  30 records\n",
      "User 90  -  30 records\n",
      "User 89  -  30 records\n",
      "User 87  -  30 records\n",
      "User 85  -  30 records\n",
      "User 83  -  30 records\n",
      "User 76  -  30 records\n",
      "User 73  -  30 records\n",
      "User 70  -  30 records\n",
      "User 69  -  30 records\n",
      "User 65  -  30 records\n",
      "User 58  -  30 records\n",
      "User 56  -  30 records\n",
      "User 55  -  30 records\n",
      "User 54  -  30 records\n",
      "User 52  -  30 records\n",
      "User 51  -  30 records\n",
      "User 44  -  30 records\n",
      "User 34  -  30 records\n",
      "User 33  -  30 records\n",
      "User 30  -  30 records\n",
      "User 29  -  30 records\n",
      "User 24  -  30 records\n",
      "User 23  -  30 records\n",
      "User 20  -  30 records\n",
      "User 17  -  30 records\n",
      "User 16  -  30 records\n",
      "User 15  -  30 records\n",
      "User 13  -  30 records\n",
      "User 8   -  30 records\n",
      "User 128 -  29 records\n",
      "User 74  -  29 records\n",
      "User 21  -  29 records\n",
      "User 110 -  24 records\n",
      "User 66  -  24 records\n",
      "User 14  -  24 records\n",
      "User 122 -  23 records\n",
      "User 22  -  19 records\n",
      "User 120 -  18 records\n",
      "User 78  -  18 records\n",
      "User 67  -  18 records\n",
      "User 59  -  18 records\n",
      "User 18  -  18 records\n",
      "User 133 -  12 records\n",
      "User 131 -  12 records\n",
      "User 125 -  12 records\n",
      "User 118 -  12 records\n",
      "User 117 -  12 records\n",
      "User 116 -  12 records\n",
      "User 112 -  12 records\n",
      "User 77  -  12 records\n",
      "User 57  -  12 records\n",
      "User 123 -  11 records\n",
      "User 126 -   6 records\n",
      "User 124 -   6 records\n",
      "User 121 -   6 records\n",
      "User 114 -   6 records\n",
      "User 113 -   6 records\n",
      "User 111 -   6 records\n",
      "User 109 -   6 records\n",
      "User 84  -   6 records\n",
      "User 72  -   6 records\n",
      "User 71  -   6 records\n",
      "User 63  -   6 records\n",
      "User 31  -   6 records\n",
      "User 60  -   3 records\n"
     ]
    }
   ],
   "source": [
    "data = Data()\n",
    "samples = data.getSamples()\n",
    "targets = data.getTargets()\n",
    "\n",
    "minimum = np.array(samples, dtype=np.float64).min(axis=0).min(axis=0)\n",
    "maximum = np.array(samples, dtype=np.float64).max(axis=0).max(axis=0)\n",
    "\n",
    "print(\"Maximum: \" + str(maximum))\n",
    "print(\"Minimum: \" + str(minimum))\n",
    "\n",
    "data.printUsersCounts()"
   ]
  },
  {
   "cell_type": "code",
   "execution_count": 3,
   "metadata": {
    "scrolled": true
   },
   "outputs": [
    {
     "data": {
      "application/vnd.jupyter.widget-view+json": {
       "model_id": "ff53beeb14154eb58c09ba62a93d7ded",
       "version_major": 2,
       "version_minor": 0
      },
      "text/plain": [
       "interactive(children=(IntRangeSlider(value=(1, 6), continuous_update=False, description='Test:', layout=Layout…"
      ]
     },
     "metadata": {},
     "output_type": "display_data"
    }
   ],
   "source": [
    "targetsGroup = []\n",
    "for target in targets:\n",
    "    if target not in targetsGroup:\n",
    "        targetsGroup.append(target)\n",
    "\n",
    "groupedSamples = [[] for i in range(len(targetsGroup))]\n",
    "means = []\n",
    "for i in range(len(targetsGroup)):\n",
    "    for j in range(len(samples)):\n",
    "        if targets[j] == i + 1:\n",
    "            groupedSamples[i].append(np.array(samples[j]))\n",
    "    groupedSamples[i] = np.array(groupedSamples[i])\n",
    "\n",
    "for group in groupedSamples:\n",
    "    group2 = np.array(group, dtype=np.float64)\n",
    "    mean = []\n",
    "    for i in range(group2.shape[1]):\n",
    "        a = group2[:, i - 1]\n",
    "        a = a.mean()\n",
    "        mean.append(a)\n",
    "    means.append(mean)\n",
    "\n",
    "dataFrame = pd.DataFrame(means)\n",
    "\n",
    "usersRangeWidget = widgets.IntRangeSlider(\n",
    "    value=[1, 6],\n",
    "    min=min(targetsGroup),\n",
    "    max=max(targetsGroup),\n",
    "    step=1,\n",
    "    description='Test:',\n",
    "    disabled=False,\n",
    "    continuous_update=False,\n",
    "    orientation='horizontal',\n",
    "    readout=True,\n",
    "    readout_format='d',\n",
    ")\n",
    "usersRangeWidget.layout.width = '100%'\n",
    "\n",
    "@interact(x=usersRangeWidget)\n",
    "def updatePlots(x):\n",
    "    meansPlot = dataFrame.iloc[x[0]:x[1]].T\n",
    "    meansPlot.plot(legend=False).set_ylim(dataFrame.min(axis=0).min(axis=0), dataFrame.max(axis=0).max(axis=0))"
   ]
  },
  {
   "cell_type": "code",
   "execution_count": 4,
   "metadata": {
    "scrolled": false
   },
   "outputs": [
    {
     "data": {
      "application/vnd.jupyter.widget-view+json": {
       "model_id": "16921ff3fd88401b8bb4202402e1034d",
       "version_major": 2,
       "version_minor": 0
      },
      "text/plain": [
       "interactive(children=(Dropdown(description='User:', options=(1, 2, 3, 4, 5, 6, 7, 8, 9, 10, 11, 12, 13, 14, 15…"
      ]
     },
     "metadata": {},
     "output_type": "display_data"
    }
   ],
   "source": [
    "usersDDWidget = widgets.Dropdown(\n",
    "    options=targetsGroup,\n",
    "    value=1,\n",
    "    description='User:',\n",
    "    disabled=False,\n",
    ")\n",
    "\n",
    "@interact(x=usersDDWidget)\n",
    "def plotUserData(x):\n",
    "    usersSamples = pd.DataFrame(groupedSamples[x])\n",
    "    usersSamples.astype(float).T.plot(legend=False).set_ylim(minimum, maximum)\n"
   ]
  },
  {
   "cell_type": "markdown",
   "metadata": {},
   "source": [
    "## Plotting the features\n",
    "\n",
    "Here we plot one feature against another to quickly see if users can be discriminated (i.e. if we can separate the groups of points with a straight line or if a grouping is possible).\n",
    "\n",
    "Extending this feature plotting to a third dimension (by adding another feature) can help discriminating the users. By extension, we can assume that up to it's 60th dimension, the points can be clustered and separated."
   ]
  },
  {
   "cell_type": "code",
   "execution_count": 5,
   "metadata": {},
   "outputs": [
    {
     "data": {
      "application/vnd.jupyter.widget-view+json": {
       "model_id": "595860a9964141d4aa1509d9ab7547ab",
       "version_major": 2,
       "version_minor": 0
      },
      "text/plain": [
       "FigureCanvasNbAgg()"
      ]
     },
     "metadata": {},
     "output_type": "display_data"
    },
    {
     "data": {
      "application/vnd.jupyter.widget-view+json": {
       "model_id": "551c59b3cd8e487889221b91f610efd9",
       "version_major": 2,
       "version_minor": 0
      },
      "text/plain": [
       "FigureCanvasNbAgg()"
      ]
     },
     "metadata": {},
     "output_type": "display_data"
    },
    {
     "data": {
      "application/vnd.jupyter.widget-view+json": {
       "model_id": "d90bcfb81f5d47f7a89d98cbef30b56e",
       "version_major": 2,
       "version_minor": 0
      },
      "text/plain": [
       "interactive(children=(Dropdown(description='First user:', options=(1, 2, 3, 4, 5, 6, 7, 8, 9, 10, 11, 12, 13, …"
      ]
     },
     "metadata": {},
     "output_type": "display_data"
    }
   ],
   "source": [
    "# This import registers the 3D projection, but is otherwise unused.\n",
    "from mpl_toolkits.mplot3d import Axes3D  # noqa: F401 unused import\n",
    "\n",
    "users = data.table[\"user_id\"].drop_duplicates()\n",
    "\n",
    "firstUserDropdownWidget = widgets.Dropdown(options=users, value=1, description='First user:')\n",
    "secondUserDropdownWidget = widgets.Dropdown(options=users, value=2, description='Second user:')\n",
    "\n",
    "fig2d = plt.figure()\n",
    "fig3d = plt.figure()\n",
    "\n",
    "ax2d = fig2d.add_subplot(111)\n",
    "ax2d.set_xlabel('rrTime0')\n",
    "ax2d.set_ylabel('rrTime1')\n",
    "\n",
    "ax3d = fig3d.add_subplot(111, projection='3d')\n",
    "ax3d.set_xlabel('rrTime0')\n",
    "ax3d.set_ylabel('rrTime1')\n",
    "ax3d.set_zlabel('rrTime2')\n",
    "\n",
    "@interact(x=firstUserDropdownWidget, y=secondUserDropdownWidget)\n",
    "def plotFeatures(x, y):\n",
    "    sub = data.table.loc[(data.table[\"user_id\"] == x) | (data.table[\"user_id\"] == y),\n",
    "                        [\"user_id\", \"rrTime0\", \"rrTime1\", \"rrTime2\"]]\n",
    "    ax2d.scatter(sub[\"rrTime0\"], sub[\"rrTime1\"], c=sub[\"user_id\"])\n",
    "    ax3d.scatter(sub[\"rrTime0\"], sub[\"rrTime1\"], sub[\"rrTime2\"], c=sub[\"user_id\"])"
   ]
  },
  {
   "cell_type": "code",
   "execution_count": null,
   "metadata": {},
   "outputs": [],
   "source": []
  }
 ],
 "metadata": {
  "kernelspec": {
   "display_name": "Python 3",
   "language": "python",
   "name": "python3"
  },
  "language_info": {
   "codemirror_mode": {
    "name": "ipython",
    "version": 3
   },
   "file_extension": ".py",
   "mimetype": "text/x-python",
   "name": "python",
   "nbconvert_exporter": "python",
   "pygments_lexer": "ipython3",
   "version": "3.7.3"
  }
 },
 "nbformat": 4,
 "nbformat_minor": 2
}
